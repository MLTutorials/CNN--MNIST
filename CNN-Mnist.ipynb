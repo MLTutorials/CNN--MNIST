{
 "cells": [
  {
   "cell_type": "code",
   "execution_count": 2,
   "metadata": {},
   "outputs": [],
   "source": [
    "import keras \n",
    "from keras.datasets import mnist\n",
    "from keras.models import Sequential\n",
    "from keras.layers import Dense, Dropout, Flatten\n",
    "from keras.layers import Conv2D, MaxPooling2D\n",
    "import numpy as np"
   ]
  },
  {
   "cell_type": "code",
   "execution_count": 3,
   "metadata": {},
   "outputs": [],
   "source": [
    "batch_size = 128 \n",
    "num_classes = 10\n",
    "epochs = 15"
   ]
  },
  {
   "cell_type": "code",
   "execution_count": 4,
   "metadata": {},
   "outputs": [
    {
     "name": "stdout",
     "output_type": "stream",
     "text": [
      "Downloading data from https://s3.amazonaws.com/img-datasets/mnist.npz\n",
      "11493376/11490434 [==============================] - 13s 1us/step\n"
     ]
    }
   ],
   "source": [
    "img_rows , img_cols = 28,28\n",
    "(x_train, y_train),(x_test, y_test) = mnist.load_data()"
   ]
  },
  {
   "cell_type": "code",
   "execution_count": 7,
   "metadata": {},
   "outputs": [],
   "source": [
    "x_train = x_train.reshape(60000, 28, 28, 1)\n",
    "x_test = x_test.reshape(10000, 28,28,1)"
   ]
  },
  {
   "cell_type": "code",
   "execution_count": 8,
   "metadata": {},
   "outputs": [],
   "source": [
    "y_train = keras.utils.to_categorical(y_train, num_classes)\n",
    "y_test = keras.utils.to_categorical(y_test, num_classes)"
   ]
  },
  {
   "cell_type": "code",
   "execution_count": 10,
   "metadata": {},
   "outputs": [],
   "source": [
    "model = Sequential()\n",
    "model.add(Conv2D(32, kernel_size=(3,3),\n",
    "                activation = 'relu',\n",
    "                input_shape = (28,28,1)))\n",
    "model.add(Conv2D(64,(3,3),activation='relu'))\n",
    "model.add(MaxPooling2D(pool_size=(2,2)))\n",
    "model.add(Dropout(0.25))"
   ]
  },
  {
   "cell_type": "code",
   "execution_count": 11,
   "metadata": {},
   "outputs": [],
   "source": [
    "model.add(Flatten())\n",
    "model.add(Dense(128,activation='relu'))\n",
    "model.add(Dropout(0.5))\n",
    "model.add(Dense(num_classes , activation='softmax'))"
   ]
  },
  {
   "cell_type": "code",
   "execution_count": 13,
   "metadata": {},
   "outputs": [],
   "source": [
    "model.compile(loss=keras.losses.categorical_crossentropy, \n",
    "             optimizer = keras.optimizers.Adadelta(),\n",
    "             metrics= ['accuracy'])"
   ]
  },
  {
   "cell_type": "code",
   "execution_count": 14,
   "metadata": {},
   "outputs": [
    {
     "name": "stdout",
     "output_type": "stream",
     "text": [
      "Train on 60000 samples, validate on 10000 samples\n",
      "Epoch 1/15\n",
      "60000/60000 [==============================] - 182s 3ms/step - loss: 1.2300 - acc: 0.8690 - val_loss: 0.0783 - val_acc: 0.9754\n",
      "Epoch 2/15\n",
      "60000/60000 [==============================] - 167s 3ms/step - loss: 0.1127 - acc: 0.9689 - val_loss: 0.0515 - val_acc: 0.9838\n",
      "Epoch 3/15\n",
      "60000/60000 [==============================] - 157s 3ms/step - loss: 0.0807 - acc: 0.9764 - val_loss: 0.0429 - val_acc: 0.9867\n",
      "Epoch 4/15\n",
      "60000/60000 [==============================] - 158s 3ms/step - loss: 0.0664 - acc: 0.9802 - val_loss: 0.0452 - val_acc: 0.9864\n",
      "Epoch 5/15\n",
      "60000/60000 [==============================] - 158s 3ms/step - loss: 0.0603 - acc: 0.9825 - val_loss: 0.0453 - val_acc: 0.9865\n",
      "Epoch 6/15\n",
      "60000/60000 [==============================] - 153s 3ms/step - loss: 0.0529 - acc: 0.9847 - val_loss: 0.0345 - val_acc: 0.9879\n",
      "Epoch 7/15\n",
      "60000/60000 [==============================] - 156s 3ms/step - loss: 0.0457 - acc: 0.9866 - val_loss: 0.0406 - val_acc: 0.9874\n",
      "Epoch 8/15\n",
      "60000/60000 [==============================] - 155s 3ms/step - loss: 0.0394 - acc: 0.9884 - val_loss: 0.0342 - val_acc: 0.9906\n",
      "Epoch 9/15\n",
      "60000/60000 [==============================] - 163s 3ms/step - loss: 0.0381 - acc: 0.9890 - val_loss: 0.0394 - val_acc: 0.9890\n",
      "Epoch 10/15\n",
      "60000/60000 [==============================] - 152s 3ms/step - loss: 0.0334 - acc: 0.9905 - val_loss: 0.0338 - val_acc: 0.9900\n",
      "Epoch 11/15\n",
      "60000/60000 [==============================] - 159s 3ms/step - loss: 0.0294 - acc: 0.9910 - val_loss: 0.0369 - val_acc: 0.9898\n",
      "Epoch 12/15\n",
      "60000/60000 [==============================] - 230s 4ms/step - loss: 0.0291 - acc: 0.9913 - val_loss: 0.0383 - val_acc: 0.9891\n",
      "Epoch 13/15\n",
      "60000/60000 [==============================] - 192s 3ms/step - loss: 0.0253 - acc: 0.9923 - val_loss: 0.0387 - val_acc: 0.9908\n",
      "Epoch 14/15\n",
      "60000/60000 [==============================] - 182s 3ms/step - loss: 0.0256 - acc: 0.9926 - val_loss: 0.0343 - val_acc: 0.9907\n",
      "Epoch 15/15\n",
      "60000/60000 [==============================] - 184s 3ms/step - loss: 0.0246 - acc: 0.9924 - val_loss: 0.0373 - val_acc: 0.9905\n",
      "Loss on Test Set:  0.0372712628019639\n",
      "Test Accuracy:  0.9905\n"
     ]
    }
   ],
   "source": [
    "model.fit(x_train , y_train, batch_size= batch_size, epochs= epochs , verbose= 1, validation_data=(x_test,y_test))\n",
    "score = model.evaluate(x_test , y_test, verbose=0)\n",
    "print(\"Loss on Test Set: \", score[0])\n",
    "print(\"Test Accuracy: \", score[1])"
   ]
  },
  {
   "cell_type": "code",
   "execution_count": null,
   "metadata": {},
   "outputs": [],
   "source": []
  }
 ],
 "metadata": {
  "kernelspec": {
   "display_name": "Python 3",
   "language": "python",
   "name": "python3"
  },
  "language_info": {
   "codemirror_mode": {
    "name": "ipython",
    "version": 3
   },
   "file_extension": ".py",
   "mimetype": "text/x-python",
   "name": "python",
   "nbconvert_exporter": "python",
   "pygments_lexer": "ipython3",
   "version": "3.6.8"
  }
 },
 "nbformat": 4,
 "nbformat_minor": 2
}
